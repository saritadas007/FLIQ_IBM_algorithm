{
  "nbformat": 4,
  "nbformat_minor": 0,
  "metadata": {
    "colab": {
      "provenance": [],
      "authorship_tag": "ABX9TyPyyloIuXrqy7/dw/IZhPJc",
      "include_colab_link": true
    },
    "kernelspec": {
      "name": "python3",
      "display_name": "Python 3"
    },
    "language_info": {
      "name": "python"
    }
  },
  "cells": [
    {
      "cell_type": "markdown",
      "metadata": {
        "id": "view-in-github",
        "colab_type": "text"
      },
      "source": [
        "<a href=\"https://colab.research.google.com/github/saritadas007/FLIQ_IBM_algorithm/blob/main/Deutsch_Algorithm.ipynb\" target=\"_parent\"><img src=\"https://colab.research.google.com/assets/colab-badge.svg\" alt=\"Open In Colab\"/></a>"
      ]
    },
    {
      "cell_type": "markdown",
      "source": [
        "\n",
        "**Deutsch Algorithm - Beginner Tutorial**\n",
        "\n",
        "\n",
        "**Introduction:**\n",
        "This notebook provides a step-by-step explanation of the **Deutsch Algorithm** — the first quantum algorithm that demonstrates a speedup over classical computation.\n",
        "\n",
        "We’ll explain key quantum concepts along the way to help beginners understand how quantum computation works in this simple but powerful example.\n",
        "\n",
        "**Background:**\n",
        "\n",
        "Problem statement:\n",
        "\n",
        "Given a function 𝑓(𝑥) that takes a 1-bit input (0 or 1) and returns a 1-bit output (0 or 1), there are four possible function behaviors:\n",
        "\n",
        "```\n",
        " f(x) = 0       f(x) = 1        \n",
        "-----------     ------------\n",
        "| x | f(x) |    | x | f(x) |\n",
        "|---|------|    |---|------|  ------> constant functions\n",
        "| 0 |  0   |    | 0 |  1   |\n",
        "| 1 |  0   |    | 1 |  1   |\n",
        "\n",
        " f(x) = x       f(x) = not x        \n",
        "-----------     ------------    \n",
        "| x | f(x) |    | x | f(x) |\n",
        "|---|------|    |---|------|  ------> balanced functions\n",
        "| 0 |  0   |    | 0 |  1   |\n",
        "| 1 |  1   |    | 1 |  0   |\n",
        "```\n",
        "Our goal is to find out whether the function 𝑓(𝑥)  is **constant or balanced**?\n",
        "In classical computing, determining whether𝑓(𝑥)
        "is constant (same output for all inputs) or balanced (different outputs for each input) would require two evaluations: one for\n",
        "x = 0,
        "and one for x=1.
        "\n",
        "**Learning Goals:**\n",
        "This tuotorial aims at the students who are staring their quantum computing\n",
        "journey, having some basic experiences in programming (Python).\n",
        "By the end of this tutorial, one will understand how quantum computing allows us to solve Deutsch's problem with just one evaluation, using quantum principles like superposition and interference.\n",
        "\n",
        "\n",
        "The key quantum concepts are also explained along the way to help readers understand how quantum computation works.\n",
        "\n",
        "**Understanding some basic quantum concepts**\n",
        "\n",
        "\n",
        "To understand the **Deutsch Algorithm**, it's essential to grasp three key quantum concepts:\n",
        "\n",
        "---\n",
        "\n",
        "### Superposition\n",
        "A classical bit is either 0 or 1.  \n",
        "But a **qubit** can be in a combination of both at the same time:\n",
        "\n",
        "$\n",
        "|\\psi\\rangle = \\alpha|0\\rangle + \\beta|1\\rangle\n",
        "$\n",
        "\n",
        "Here, $\\alpha $ and $\\beta$ are complex numbers such that $|\\alpha|^2 + |\\beta|^2 = 1$.  \n",
        "This allows quantum computers to process multiple inputs simultaneously — a concept known as **quantum parallelism**.\n",
        "\n",
        "---\n",
        "\n",
        "###  Interference\n",
        "Quantum amplitudes can **interfere** just like waves.\n",
        "\n",
        "- Constructive interference **amplifies** certain outcomes.\n",
        "- Destructive interference **cancels out** others.\n",
        "\n",
        "This lets quantum algorithms eliminate incorrect results and reinforce the right ones.\n",
        "\n",
        "---\n",
        "\n",
        "###  Measurement\n",
        "Once a qubit is measured, it collapses to either $|0⟩$ or $|1⟩$ based on probabilities:\n",
        "\n",
        "- Probability of $|0⟩= |\\alpha|^2$\n",
        "- Probability of $|1⟩ = |\\beta|^2$\n",
        "\n",
        "After measurement, the qubit **loses** its superposition and behaves classically.\n",
        "\n",
        "---\n",
        "\n",
        "We'll use these principles to build a quantum circuit that identifies whether a function $f(x)$ is **constant or balanced**, with just **one** query — something impossible classically.\n",
        "\n",
        "**Quantum Circuit**\n",
        "\n",
        "\n",
        "---\n",
        "\n",
        "### ⚛️ What is a Quantum Circuit?\n",
        "\n",
        "A **quantum circuit** is a model for quantum computation.\n",
        "\n",
        "Just like a classical circuit is made of wires and logic gates, a quantum circuit consists of:\n",
        "\n",
        "- **Qubits** (quantum bits) – the basic units of quantum information\n",
        "- **Quantum gates** – operations that manipulate qubits\n",
        "- **Measurements** – operations that extract classical outcomes\n",
        "\n",
        "🧩 In Qiskit (and most quantum frameworks), a quantum circuit is built by:\n",
        "\n",
        "- Defining a number of qubits and classical bits\n",
        "- Applying gates like Hadamard (H), Pauli-X (X), and CNOT\n",
        "- Measuring the qubits at the end\n",
        "\n",
        "---\n",
        "\n",
        "### Gates we Use in the Deutsch Algorithm\n",
        "\n",
        "| Gate      | Symbol | Role                                                |\n",
        "|-----------|--------|-----------------------------------------------------|\n",
        "| **X**     | NOT    | Flips $|0⟩$ to $|1⟩$ and vice versa             |\n",
        "| **H**     | Hadamard | Creates superposition $|0⟩ → (|0⟩ + |1⟩)/√2 $    |\n",
        "| **CNOT**  | ⊕      | Controlled-NOT gate; flips a target qubit based on control qubit |\n",
        "\n",
        "These gates are applied in sequence to qubits in a circuit to perform computation.\n",
        "\n",
        "---\n",
        "\n",
        "###  Deutsch Algorithm Circuit\n",
        "\n",
        "In the Deutsch Algorithm, we use a **2-qubit circuit**:\n",
        "\n",
        "- **Qubit 0** (top wire): used to store input \\( x \\)\n",
        "- **Qubit 1** (bottom wire): helps evaluate \\( f(x) \\)\n",
        "- A **classical bit** to store the result of measuring qubit 0\n",
        "\n",
        "The full circuit includes:\n",
        "- Initialization\n",
        "- Superposition with Hadamard gates\n",
        "- Oracle encoding the function\n",
        "- Interference using Hadamard\n",
        "- Measurement\n",
        "\n",
        "We'll show how we build this circuit step by step in Qiskit.\n",
        "\n"
      ],
      "metadata": {
        "id": "04I7hjTXIrvY"
      }
    },
    {
      "cell_type": "code",
      "execution_count": 2,
      "metadata": {
        "colab": {
          "base_uri": "https://localhost:8080/"
        },
        "id": "71Bfp4ziordf",
        "outputId": "10b8d889-1d37-4c6d-deb9-1ad2aa3f2051"
      },
      "outputs": [
        {
          "output_type": "stream",
          "name": "stdout",
          "text": [
            "Collecting qiskit\n",
            "  Downloading qiskit-2.0.1-cp39-abi3-manylinux_2_17_x86_64.manylinux2014_x86_64.whl.metadata (12 kB)\n",
            "Collecting rustworkx>=0.15.0 (from qiskit)\n",
            "  Downloading rustworkx-0.16.0-cp39-abi3-manylinux_2_17_x86_64.manylinux2014_x86_64.whl.metadata (10 kB)\n",
            "Requirement already satisfied: numpy<3,>=1.17 in /usr/local/lib/python3.11/dist-packages (from qiskit) (2.0.2)\n",
            "Requirement already satisfied: scipy>=1.5 in /usr/local/lib/python3.11/dist-packages (from qiskit) (1.15.3)\n",
            "Requirement already satisfied: sympy>=1.3 in /usr/local/lib/python3.11/dist-packages (from qiskit) (1.13.1)\n",
            "Requirement already satisfied: dill>=0.3 in /usr/local/lib/python3.11/dist-packages (from qiskit) (0.3.7)\n",
            "Requirement already satisfied: python-dateutil>=2.8.0 in /usr/local/lib/python3.11/dist-packages (from qiskit) (2.9.0.post0)\n",
            "Collecting stevedore>=3.0.0 (from qiskit)\n",
            "  Downloading stevedore-5.4.1-py3-none-any.whl.metadata (2.3 kB)\n",
            "Requirement already satisfied: typing-extensions in /usr/local/lib/python3.11/dist-packages (from qiskit) (4.13.2)\n",
            "Collecting symengine<0.14,>=0.11 (from qiskit)\n",
            "  Downloading symengine-0.13.0-cp311-cp311-manylinux_2_17_x86_64.manylinux2014_x86_64.whl.metadata (1.2 kB)\n",
            "Requirement already satisfied: six>=1.5 in /usr/local/lib/python3.11/dist-packages (from python-dateutil>=2.8.0->qiskit) (1.17.0)\n",
            "Collecting pbr>=2.0.0 (from stevedore>=3.0.0->qiskit)\n",
            "  Downloading pbr-6.1.1-py2.py3-none-any.whl.metadata (3.4 kB)\n",
            "Requirement already satisfied: mpmath<1.4,>=1.1.0 in /usr/local/lib/python3.11/dist-packages (from sympy>=1.3->qiskit) (1.3.0)\n",
            "Requirement already satisfied: setuptools in /usr/local/lib/python3.11/dist-packages (from pbr>=2.0.0->stevedore>=3.0.0->qiskit) (75.2.0)\n",
            "Downloading qiskit-2.0.1-cp39-abi3-manylinux_2_17_x86_64.manylinux2014_x86_64.whl (6.5 MB)\n",
            "\u001b[2K   \u001b[90m━━━━━━━━━━━━━━━━━━━━━━━━━━━━━━━━━━━━━━━━\u001b[0m \u001b[32m6.5/6.5 MB\u001b[0m \u001b[31m53.5 MB/s\u001b[0m eta \u001b[36m0:00:00\u001b[0m\n",
            "\u001b[?25hDownloading rustworkx-0.16.0-cp39-abi3-manylinux_2_17_x86_64.manylinux2014_x86_64.whl (2.1 MB)\n",
            "\u001b[2K   \u001b[90m━━━━━━━━━━━━━━━━━━━━━━━━━━━━━━━━━━━━━━━━\u001b[0m \u001b[32m2.1/2.1 MB\u001b[0m \u001b[31m50.0 MB/s\u001b[0m eta \u001b[36m0:00:00\u001b[0m\n",
            "\u001b[?25hDownloading stevedore-5.4.1-py3-none-any.whl (49 kB)\n",
            "\u001b[2K   \u001b[90m━━━━━━━━━━━━━━━━━━━━━━━━━━━━━━━━━━━━━━━━\u001b[0m \u001b[32m49.5/49.5 kB\u001b[0m \u001b[31m3.1 MB/s\u001b[0m eta \u001b[36m0:00:00\u001b[0m\n",
            "\u001b[?25hDownloading symengine-0.13.0-cp311-cp311-manylinux_2_17_x86_64.manylinux2014_x86_64.whl (49.7 MB)\n",
            "\u001b[2K   \u001b[90m━━━━━━━━━━━━━━━━━━━━━━━━━━━━━━━━━━━━━━━━\u001b[0m \u001b[32m49.7/49.7 MB\u001b[0m \u001b[31m14.6 MB/s\u001b[0m eta \u001b[36m0:00:00\u001b[0m\n",
            "\u001b[?25hDownloading pbr-6.1.1-py2.py3-none-any.whl (108 kB)\n",
            "\u001b[2K   \u001b[90m━━━━━━━━━━━━━━━━━━━━━━━━━━━━━━━━━━━━━━━━\u001b[0m \u001b[32m109.0/109.0 kB\u001b[0m \u001b[31m5.5 MB/s\u001b[0m eta \u001b[36m0:00:00\u001b[0m\n",
            "\u001b[?25hInstalling collected packages: symengine, rustworkx, pbr, stevedore, qiskit\n",
            "Successfully installed pbr-6.1.1 qiskit-2.0.1 rustworkx-0.16.0 stevedore-5.4.1 symengine-0.13.0\n",
            "Collecting pylatexenc\n",
            "  Downloading pylatexenc-2.10.tar.gz (162 kB)\n",
            "\u001b[2K     \u001b[90m━━━━━━━━━━━━━━━━━━━━━━━━━━━━━━━━━━━━━━━\u001b[0m \u001b[32m162.6/162.6 kB\u001b[0m \u001b[31m4.9 MB/s\u001b[0m eta \u001b[36m0:00:00\u001b[0m\n",
            "\u001b[?25h  Preparing metadata (setup.py) ... \u001b[?25l\u001b[?25hdone\n",
            "Building wheels for collected packages: pylatexenc\n",
            "  Building wheel for pylatexenc (setup.py) ... \u001b[?25l\u001b[?25hdone\n",
            "  Created wheel for pylatexenc: filename=pylatexenc-2.10-py3-none-any.whl size=136817 sha256=d937fe42e2dec57a4a4952ad7f6999ac6468e5725f46588cc463ee99d9f809e6\n",
            "  Stored in directory: /root/.cache/pip/wheels/b1/7a/33/9fdd892f784ed4afda62b685ae3703adf4c91aa0f524c28f03\n",
            "Successfully built pylatexenc\n",
            "Installing collected packages: pylatexenc\n",
            "Successfully installed pylatexenc-2.10\n",
            "Collecting qiskit-aer\n",
            "  Downloading qiskit_aer-0.17.0-cp311-cp311-manylinux_2_17_x86_64.manylinux2014_x86_64.whl.metadata (8.2 kB)\n",
            "Requirement already satisfied: qiskit>=1.1.0 in /usr/local/lib/python3.11/dist-packages (from qiskit-aer) (2.0.1)\n",
            "Requirement already satisfied: numpy>=1.16.3 in /usr/local/lib/python3.11/dist-packages (from qiskit-aer) (2.0.2)\n",
            "Requirement already satisfied: scipy>=1.0 in /usr/local/lib/python3.11/dist-packages (from qiskit-aer) (1.15.3)\n",
            "Requirement already satisfied: psutil>=5 in /usr/local/lib/python3.11/dist-packages (from qiskit-aer) (5.9.5)\n",
            "Requirement already satisfied: rustworkx>=0.15.0 in /usr/local/lib/python3.11/dist-packages (from qiskit>=1.1.0->qiskit-aer) (0.16.0)\n",
            "Requirement already satisfied: sympy>=1.3 in /usr/local/lib/python3.11/dist-packages (from qiskit>=1.1.0->qiskit-aer) (1.13.1)\n",
            "Requirement already satisfied: dill>=0.3 in /usr/local/lib/python3.11/dist-packages (from qiskit>=1.1.0->qiskit-aer) (0.3.7)\n",
            "Requirement already satisfied: python-dateutil>=2.8.0 in /usr/local/lib/python3.11/dist-packages (from qiskit>=1.1.0->qiskit-aer) (2.9.0.post0)\n",
            "Requirement already satisfied: stevedore>=3.0.0 in /usr/local/lib/python3.11/dist-packages (from qiskit>=1.1.0->qiskit-aer) (5.4.1)\n",
            "Requirement already satisfied: typing-extensions in /usr/local/lib/python3.11/dist-packages (from qiskit>=1.1.0->qiskit-aer) (4.13.2)\n",
            "Requirement already satisfied: symengine<0.14,>=0.11 in /usr/local/lib/python3.11/dist-packages (from qiskit>=1.1.0->qiskit-aer) (0.13.0)\n",
            "Requirement already satisfied: six>=1.5 in /usr/local/lib/python3.11/dist-packages (from python-dateutil>=2.8.0->qiskit>=1.1.0->qiskit-aer) (1.17.0)\n",
            "Requirement already satisfied: pbr>=2.0.0 in /usr/local/lib/python3.11/dist-packages (from stevedore>=3.0.0->qiskit>=1.1.0->qiskit-aer) (6.1.1)\n",
            "Requirement already satisfied: mpmath<1.4,>=1.1.0 in /usr/local/lib/python3.11/dist-packages (from sympy>=1.3->qiskit>=1.1.0->qiskit-aer) (1.3.0)\n",
            "Requirement already satisfied: setuptools in /usr/local/lib/python3.11/dist-packages (from pbr>=2.0.0->stevedore>=3.0.0->qiskit>=1.1.0->qiskit-aer) (75.2.0)\n",
            "Downloading qiskit_aer-0.17.0-cp311-cp311-manylinux_2_17_x86_64.manylinux2014_x86_64.whl (12.4 MB)\n",
            "\u001b[2K   \u001b[90m━━━━━━━━━━━━━━━━━━━━━━━━━━━━━━━━━━━━━━━━\u001b[0m \u001b[32m12.4/12.4 MB\u001b[0m \u001b[31m35.3 MB/s\u001b[0m eta \u001b[36m0:00:00\u001b[0m\n",
            "\u001b[?25hInstalling collected packages: qiskit-aer\n",
            "Successfully installed qiskit-aer-0.17.0\n"
          ]
        }
      ],
      "source": [
        "#installation qiskit\n",
        "!pip install qiskit\n",
        "!pip install pylatexenc\n",
        "!pip install qiskit-aer\n"
      ]
    },
    {
      "cell_type": "code",
      "source": [
        "#Qiskit version check\n",
        "import qiskit\n",
        "from qiskit.version import VERSION\n",
        "\n",
        "print(\"Qiskit version:\", VERSION)\n",
        "import importlib.metadata\n",
        "\n",
        "print(\"qiskit:\", importlib.metadata.version(\"qiskit\"))\n",
        "print(\"qiskit-aer:\", importlib.metadata.version(\"qiskit-aer\"))\n",
        "# print(\"qiskit-ibm-runtime:\", importlib.metadata.version(\"qiskit-ibm-runtime\"))\n",
        "\n"
      ],
      "metadata": {
        "colab": {
          "base_uri": "https://localhost:8080/"
        },
        "id": "Vgat1BqZo90Y",
        "outputId": "2e15000c-376c-47e9-f048-d908831b5120"
      },
      "execution_count": 4,
      "outputs": [
        {
          "output_type": "stream",
          "name": "stdout",
          "text": [
            "Qiskit version: 2.0.1\n",
            "qiskit: 2.0.1\n",
            "qiskit-aer: 0.17.0\n"
          ]
        }
      ]
    },
    {
      "cell_type": "code",
      "source": [
        "# Deutsch Algorithm Circuit Template\n",
        "#Here we are showing the circuit for the demonstration purpose\n",
        "\n",
        "from qiskit import QuantumCircuit\n",
        "from qiskit.visualization import plot_histogram\n",
        "from matplotlib import pyplot as plt\n",
        "\n",
        "# Create a quantum circuit with 2 qubits and 1 classical bit\n",
        "qc = QuantumCircuit(2, 1)\n",
        "\n",
        "# Step 1: Initialize |0⟩ for input qubit and |1⟩ for output qubit\n",
        "qc.x(1)              # Flip the second qubit to |1⟩\n",
        "qc.h(0)              # Apply Hadamard to input qubit\n",
        "qc.h(1)              # Apply Hadamard to output qubit\n",
        "\n",
        "# Oracle will go here later...\n",
        "\n",
        "qc.h(0)              # Hadamard again on input qubit\n",
        "qc.measure(0, 0)     # Measure input qubit\n",
        "\n",
        "# Display the circuit\n",
        "qc.draw(output = 'mpl')\n",
        "\n"
      ],
      "metadata": {
        "colab": {
          "base_uri": "https://localhost:8080/",
          "height": 255
        },
        "id": "y1lV45uUrBMW",
        "outputId": "24483d44-0d80-42de-8df0-0b2f9dc9543b"
      },
      "execution_count": 3,
      "outputs": [
        {
          "output_type": "execute_result",
          "data": {
            "text/plain": [
              "<Figure size 370.906x284.278 with 1 Axes>"
            ],
            "image/png": "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\n"
          },
          "metadata": {},
          "execution_count": 3
        }
      ]
    },
    {
      "cell_type": "markdown",
      "source": [
        "In quantum computing, an oracle is like a black-box function. It performs a specific computation on a quantum input but doesn't tell us how it works inside — we can only observe its input-output behavior.\n",
        "\n",
        "In the Deutsch Algorithm, the oracle represents a function f(x) that takes one input bit and returns one output bit. Our goal is to determine whether this function is:\n",
        "\n",
        "🟢 Constant: the output is always the same (either 0 or 1)\n",
        "\n",
        "🔄 Balanced: the output is different for each input (i.e., f(0) ≠ f(1))\n",
        "In this tutorial, we simulate four types of oracles:\n",
        "\n",
        "f(x) = 0 – a constant function returning 0\n",
        "\n",
        "f(x) = 1 – a constant function returning 1\n",
        "\n",
        "f(x) = x – a balanced identity function\n",
        "\n",
        "f(x) = NOT x – a balanced not"
      ],
      "metadata": {
        "id": "kt5rQyfIP_BH"
      }
    },
    {
      "cell_type": "code",
      "source": [
        "# Defining the oracel functions\n",
        "# Four types of oracles \\*\n",
        "\n",
        "def oracle_constant_0(qc):\n",
        "    # f(x) = 0 → do nothing\n",
        "    pass\n",
        "\n",
        "def oracle_constant_1(qc):\n",
        "    # f(x) = 1 → flip the output qubit (apply X gate)\n",
        "    qc.x(1)\n",
        "\n",
        "def oracle_balanced_identity(qc):\n",
        "    # f(x) = x → apply CNOT gate\n",
        "    qc.cx(0, 1)\n",
        "\n",
        "def oracle_balanced_not(qc):\n",
        "    # f(x) = NOT x → flip output qubit, then CNOT\n",
        "    qc.x(1)\n",
        "    qc.cx(0, 1)\n"
      ],
      "metadata": {
        "id": "rl0SATma5OXj"
      },
      "execution_count": 8,
      "outputs": []
    },
    {
      "cell_type": "code",
      "source": [
        "#Running the algorithm\n",
        "from qiskit import QuantumCircuit, transpile\n",
        "from qiskit_aer import AerSimulator\n",
        "\n",
        "def run_deutsch(oracle_func):\n",
        "  #define quantum circuit\n",
        "    qc = QuantumCircuit(2, 1)\n",
        "    qc.x(1) # Flip the second qubit to |1⟩\n",
        "    qc.h(0) # Apply Hadamard to input qubit\n",
        "    qc.h(1) # Apply Hadamard to output qubit\n",
        "\n",
        "    oracle_func(qc)  # <<== this is where oracle_func is used\n",
        "\n",
        "    qc.h(0) # Hadamard again on input qubit\n",
        "    qc.measure(0, 0) # Measure input qubit\n",
        "\n",
        "    # Simulate the circuit\n",
        "\n",
        "    simulator = AerSimulator()\n",
        "    transpiled_qc = transpile(qc, simulator)\n",
        "    job = simulator.run(transpiled_qc, shots=1000)\n",
        "    result = job.result()\n",
        "    counts = result.get_counts()\n",
        "\n",
        "    return counts\n"
      ],
      "metadata": {
        "id": "bYSBIJ96rbOt"
      },
      "execution_count": 6,
      "outputs": []
    },
    {
      "cell_type": "code",
      "source": [
        "#Test all cases\n",
        "oracle_list = [\n",
        "    (\"Constant f(x)=0\", oracle_constant_0),\n",
        "    (\"Constant f(x)=1\", oracle_constant_1),\n",
        "    (\"Balanced f(x)=x\", oracle_balanced_identity),\n",
        "    (\"Balanced f(x)=¬x\", oracle_balanced_not),\n",
        "]\n",
        "\n",
        "for label, oracle in oracle_list:\n",
        "    counts = run_deutsch(oracle)\n",
        "    print(f\"{label}: {counts}\")"
      ],
      "metadata": {
        "colab": {
          "base_uri": "https://localhost:8080/"
        },
        "id": "G0g1T1XT_24H",
        "outputId": "17eb98c0-dac8-483e-bbbd-2bdcd49b33f5"
      },
      "execution_count": 9,
      "outputs": [
        {
          "output_type": "stream",
          "name": "stdout",
          "text": [
            "Constant f(x)=0: {'0': 1000}\n",
            "Constant f(x)=1: {'0': 1000}\n",
            "Balanced f(x)=x: {'1': 1000}\n",
            "Balanced f(x)=¬x: {'1': 1000}\n"
          ]
        }
      ]
    },
    {
      "cell_type": "markdown",
      "source": [
        "Interpreting the Output\n",
        "\n",
        "If the measurement result is:\n",
        "\n",
        "- **0** → The function is **constant**\n",
        "- **1** → The function is **balanced**\n",
        "\n",
        "This works because quantum interference cancels or amplifies certain outcomes based on the hidden pattern of the function.\n",
        "\n",
        "🧠 We learned:\n",
        "- How to apply superposition\n",
        "- How quantum oracles work\n",
        "- How interference gives us the answer with only **1 function call**\n"
      ],
      "metadata": {
        "id": "wfb5sv2WFyVe"
      }
    },
    {
      "cell_type": "markdown",
      "source": [
        "**Conclusion**\n",
        "\n",
        "The Deutsch algorithm is a simple introduction to quantum computing, showing how quantum superposition and interference let us determine if a function is constant or balanced with a single query.\n",
        "\n",
        "However, it has some **limitations**:\n",
        "\n",
        "It **cannot identify** which constant or balanced function we have—only the type.\n",
        "\n",
        "It **only works** for functions with a **single-bit input**.\n",
        "\n",
        "What’s next?\n",
        "To analyze functions with multiple input bits and still distinguish constant vs balanced with fewer queries than classical methods, we explore the Deutsch-Jozsa algorithm.\n",
        "\n",
        "This algorithm generalizes Deutsch’s approach and offers a stepping stone into more complex quantum algorithms."
      ],
      "metadata": {
        "id": "5BijSdebGf6M"
      }
    },
    {
      "cell_type": "markdown",
      "source": [],
      "metadata": {
        "id": "dnEbM3dXIp6V"
      }
    }
  ]
}
